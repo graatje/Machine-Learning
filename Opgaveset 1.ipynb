{
 "cells": [
  {
   "cell_type": "code",
   "execution_count": 1,
   "id": "e780fd34-b2b4-4bb4-80e4-5970ed96e645",
   "metadata": {
    "collapsed": false,
    "jupyter": {
     "outputs_hidden": false
    }
   },
   "outputs": [],
   "source": [
    "import numpy as np\n",
    "from sklearn.datasets import load_iris"
   ]
  },
  {
   "cell_type": "code",
   "execution_count": 2,
   "id": "d22becab-26c8-4c0f-b856-5769012278f3",
   "metadata": {},
   "outputs": [],
   "source": [
    "iris = load_iris()"
   ]
  },
  {
   "cell_type": "markdown",
   "id": "79eb818c-152f-4460-9570-cb006c8ea03e",
   "metadata": {},
   "source": [
    "Vul je featurematrix X op basis van de data."
   ]
  },
  {
   "cell_type": "code",
   "execution_count": 3,
   "id": "2d3efffc-a94c-4bc2-9c04-c60695c813bc",
   "metadata": {},
   "outputs": [],
   "source": [
    "X = iris.data"
   ]
  },
  {
   "cell_type": "markdown",
   "id": "37508dfb-950d-4a9e-a5b4-56f8b402d956",
   "metadata": {},
   "source": [
    "De uitkomstvector y ga je vullen op basis van target."
   ]
  },
  {
   "cell_type": "code",
   "execution_count": 4,
   "id": "8e35f0dd-5a30-4bd7-95ef-62889cc6b99c",
   "metadata": {},
   "outputs": [],
   "source": [
    "y = iris.target"
   ]
  },
  {
   "cell_type": "markdown",
   "id": "d488ce2c-89af-41de-99d6-b2ecb2054f2c",
   "metadata": {},
   "source": [
    "Sigmoid function"
   ]
  },
  {
   "cell_type": "code",
   "execution_count": 8,
   "id": "542691c1-a1f1-4ae7-8810-4c7d9f779b42",
   "metadata": {},
   "outputs": [],
   "source": [
    "def sigmoid(x):\n",
    "    return 1/(1+np.exp(-x))"
   ]
  },
  {
   "cell_type": "markdown",
   "id": "feec082d-a55e-4d2e-8df3-bdab190d35f4",
   "metadata": {},
   "source": [
    "Maak deze binair door 0 en 1 allebei 0 te maken en van elke 2 een 1 te maken."
   ]
  },
  {
   "cell_type": "code",
   "execution_count": 5,
   "id": "04bd053c-48a6-44eb-a858-d8e727f09172",
   "metadata": {},
   "outputs": [],
   "source": [
    "y[y==1] = False\n",
    "y[y==2] = True"
   ]
  },
  {
   "cell_type": "markdown",
   "id": "1698b80b-47b4-4a6b-851a-cc282b133332",
   "metadata": {},
   "source": [
    "Reshape y van (150,) naar (150,1)"
   ]
  },
  {
   "cell_type": "code",
   "execution_count": 6,
   "id": "cfeeaf63-d131-4f73-9769-6639aab74231",
   "metadata": {},
   "outputs": [],
   "source": [
    "y = np.reshape(y, (-1, 1))"
   ]
  },
  {
   "cell_type": "markdown",
   "id": "0060c572-57ae-4af7-90df-0bac9b34caff",
   "metadata": {},
   "source": [
    "Initialiseer een vector theta met 1.0'en in de juiste shape."
   ]
  },
  {
   "cell_type": "code",
   "execution_count": 7,
   "id": "786156fa-abdb-4211-9b1f-bceeb1abf96c",
   "metadata": {},
   "outputs": [],
   "source": [
    "theta = np.ones((X.shape[1], 1))"
   ]
  },
  {
   "cell_type": "markdown",
   "id": "36b09459-85b8-4684-bc8e-6baf2764a9d2",
   "metadata": {},
   "source": [
    "Nu kun je beginnen aan de loop waarin je in 1500 iteraties\n",
    "\n",
    "* De voorspellingen (denk aan sigmoid!) en de errors berekent.\r",
    "* \n",
    "De gradient berekent en theta aanpast. Werk in eerste instantie met een learning rate van 0.01\n",
    "* \r\n",
    "De kosten berekent."
   ]
  },
  {
   "cell_type": "code",
   "execution_count": null,
   "id": "5b934cff-bafd-47a8-a281-b7b0aa286ebf",
   "metadata": {},
   "outputs": [],
   "source": [
    "for i in range(1500):\n",
    "    prediction = sigmoid(np.dot(X, theta))\n",
    "    error = np.subtract(prediction, y)\n",
    "    gradient = np.dot(X.T, error)\n",
    "    theta = np.subtract(theta, 0.01 * gradient)"
   ]
  },
  {
   "cell_type": "code",
   "execution_count": null,
   "id": "c36c2eac-3387-46b5-8dde-cc6107bb0741",
   "metadata": {},
   "outputs": [],
   "source": []
  }
 ],
 "metadata": {
  "kernelspec": {
   "display_name": "Python 3 (ipykernel)",
   "language": "python",
   "name": "python3"
  },
  "language_info": {
   "codemirror_mode": {
    "name": "ipython",
    "version": 3
   },
   "file_extension": ".py",
   "mimetype": "text/x-python",
   "name": "python",
   "nbconvert_exporter": "python",
   "pygments_lexer": "ipython3",
   "version": "3.11.5"
  }
 },
 "nbformat": 4,
 "nbformat_minor": 5
}
