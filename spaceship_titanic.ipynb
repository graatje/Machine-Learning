{
 "cells": [
  {
   "cell_type": "code",
   "execution_count": null,
   "id": "initial_id",
   "metadata": {
    "collapsed": true
   },
   "outputs": [],
   "source": [
    "import pandas as pd\n",
    "from sklearn.linear_model import LogisticRegression\n",
    "from sklearn.ensemble import RandomForestClassifier\n",
    "import numpy as np\n",
    "from sklearn.model_selection import train_test_split"
   ]
  },
  {
   "cell_type": "code",
   "execution_count": null,
   "outputs": [],
   "source": [
    "dataset_df = pd.read_csv('train.csv')"
   ],
   "metadata": {
    "collapsed": false
   },
   "id": "15eee2a57c66bd85"
  },
  {
   "cell_type": "code",
   "execution_count": null,
   "outputs": [],
   "source": [
    "dataset_df = dataset_df.drop(['PassengerId', 'Name', 'HomePlanet', 'Destination'], axis=1)"
   ],
   "metadata": {
    "collapsed": false
   },
   "id": "81d77dfb8b8722f3"
  },
  {
   "cell_type": "markdown",
   "source": [
    "Fill the dataset with 0s for the missing values in these columns"
   ],
   "metadata": {
    "collapsed": false
   },
   "id": "e59046d525f348b7"
  },
  {
   "cell_type": "code",
   "execution_count": null,
   "outputs": [],
   "source": [
    "dataset_df[['VIP', 'CryoSleep', 'FoodCourt', 'ShoppingMall', 'Spa', 'VRDeck', 'RoomService']] = (\n",
    "            dataset_df[['VIP', 'CryoSleep', 'FoodCourt', 'ShoppingMall', 'Spa', 'VRDeck', 'RoomService']].fillna(value=0))"
   ],
   "metadata": {
    "collapsed": false
   },
   "id": "f6ff1f9333510614"
  },
  {
   "cell_type": "markdown",
   "source": [
    "Fill the missing values in Age with the mean"
   ],
   "metadata": {
    "collapsed": false
   },
   "id": "27efd90300b76312"
  },
  {
   "cell_type": "code",
   "execution_count": null,
   "outputs": [],
   "source": [
    "dataset_df['Age'] = dataset_df['Age'].fillna(dataset_df['Age'].mean())"
   ],
   "metadata": {
    "collapsed": false
   },
   "id": "7ac65b44055f913f"
  },
  {
   "cell_type": "markdown",
   "source": [
    "Remove the rows with missing values in categorical columns"
   ],
   "metadata": {
    "collapsed": false
   },
   "id": "abebaa75ec4d7b6a"
  },
  {
   "cell_type": "code",
   "execution_count": null,
   "outputs": [],
   "source": [
    "dataset_df = dataset_df.dropna()"
   ],
   "metadata": {
    "collapsed": false
   },
   "id": "ba036d7f78beb901"
  },
  {
   "cell_type": "markdown",
   "source": [
    "Convert the booleans to integers cause the model can't handle booleans"
   ],
   "metadata": {
    "collapsed": false
   },
   "id": "f2375de678893ec5"
  },
  {
   "cell_type": "code",
   "execution_count": null,
   "outputs": [],
   "source": [
    "dataset_df['Transported'] = dataset_df['Transported'].astype(int)\n",
    "dataset_df['VIP'] = dataset_df['VIP'].astype(int)\n",
    "dataset_df['CryoSleep'] = dataset_df['CryoSleep'].astype(int)"
   ],
   "metadata": {
    "collapsed": false
   },
   "id": "85f7714ebe08c66a"
  },
  {
   "cell_type": "markdown",
   "source": [
    "Split the Cabin column into 3 different columns"
   ],
   "metadata": {
    "collapsed": false
   },
   "id": "e0bae7523abd1b23"
  },
  {
   "cell_type": "code",
   "execution_count": null,
   "outputs": [],
   "source": [
    "dataset_df[['Deck', 'Cabin_num', 'Side']] = dataset_df['Cabin'].str.split(\"/\", expand=True)"
   ],
   "metadata": {
    "collapsed": false
   },
   "id": "9ac45ba478d14314"
  },
  {
   "cell_type": "markdown",
   "source": [
    "The deck and the side are character columns, so we need to convert them to numeric"
   ],
   "metadata": {
    "collapsed": false
   },
   "id": "780e123bb11cd471"
  },
  {
   "cell_type": "code",
   "execution_count": null,
   "outputs": [],
   "source": [
    "dataset_df['Deck'] = pd.Categorical(dataset_df['Deck'])\n",
    "dataset_df['Deck'] = dataset_df['Deck'].cat.codes\n",
    "dataset_df['Side'] = pd.Categorical(dataset_df['Side'])\n",
    "dataset_df['Side'] = dataset_df['Side'].cat.codes"
   ],
   "metadata": {
    "collapsed": false
   },
   "id": "610d5ff3f28ca22c"
  },
  {
   "cell_type": "markdown",
   "source": [
    "Drop the original Cabin column"
   ],
   "metadata": {
    "collapsed": false
   },
   "id": "c796b1031aacc34b"
  },
  {
   "cell_type": "code",
   "execution_count": null,
   "outputs": [],
   "source": [
    "dataset_df = dataset_df.drop(['Cabin'], axis=1)"
   ],
   "metadata": {
    "collapsed": false
   },
   "id": "d04a9d4607381c61"
  },
  {
   "cell_type": "markdown",
   "source": [
    "Convert all the columns to integers"
   ],
   "metadata": {
    "collapsed": false
   },
   "id": "364f209eb40e5f75"
  },
  {
   "cell_type": "code",
   "execution_count": null,
   "outputs": [],
   "source": [
    "dataset_df = dataset_df.astype(int)"
   ],
   "metadata": {
    "collapsed": false
   },
   "id": "fd202551432e566d"
  },
  {
   "cell_type": "code",
   "execution_count": null,
   "outputs": [],
   "source": [
    "dataset_df.head()"
   ],
   "metadata": {
    "collapsed": false
   },
   "id": "951c8db832d27e0"
  },
  {
   "cell_type": "code",
   "execution_count": null,
   "outputs": [],
   "source": [
    "# Split the dataset into training and testing dataset\n",
    "X = dataset_df.drop('Transported', axis=1)\n",
    "y = dataset_df['Transported']\n",
    "X_train, X_test, y_train, y_test = train_test_split(X, y, test_size=0.20, random_state=1)"
   ],
   "metadata": {
    "collapsed": false
   },
   "id": "89a0fe42fd6e00fa"
  },
  {
   "cell_type": "code",
   "execution_count": null,
   "outputs": [],
   "source": [
    "from sklearn.ensemble import RandomForestClassifier\n",
    "rfc = RandomForestClassifier(n_estimators=500, n_jobs=-1)\n",
    "rfc.fit(X_train, y_train)"
   ],
   "metadata": {
    "collapsed": false
   },
   "id": "26b4f1e5bce00ed9"
  },
  {
   "cell_type": "markdown",
   "source": [],
   "metadata": {
    "collapsed": false
   },
   "id": "64f6a696dccbf0bc"
  }
 ],
 "metadata": {
  "kernelspec": {
   "display_name": "Python 3",
   "language": "python",
   "name": "python3"
  },
  "language_info": {
   "codemirror_mode": {
    "name": "ipython",
    "version": 2
   },
   "file_extension": ".py",
   "mimetype": "text/x-python",
   "name": "python",
   "nbconvert_exporter": "python",
   "pygments_lexer": "ipython2",
   "version": "2.7.6"
  }
 },
 "nbformat": 4,
 "nbformat_minor": 5
}
